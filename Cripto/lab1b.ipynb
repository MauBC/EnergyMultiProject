{
 "cells": [
  {
   "cell_type": "code",
   "execution_count": 49,
   "metadata": {},
   "outputs": [
    {
     "name": "stderr",
     "output_type": "stream",
     "text": [
      "[nltk_data] Downloading package words to\n",
      "[nltk_data]     C:\\Users\\MSI\\AppData\\Roaming\\nltk_data...\n",
      "[nltk_data]   Package words is already up-to-date!\n"
     ]
    }
   ],
   "source": [
    "from posixpath import split\n",
    "import nltk\n",
    "nltk.download('words')\n",
    "from nltk.corpus import words\n",
    "import operator\n",
    "\n",
    "# Para acceder a las palabras se utiliza words.words()"
   ]
  },
  {
   "cell_type": "markdown",
   "metadata": {},
   "source": [
    "# Caesar cipher and decipher\n",
    "Ejercicio : implementar CaesarCipher y CaesarDecipher. Usar m como texto de prueba"
   ]
  },
  {
   "cell_type": "code",
   "execution_count": 19,
   "metadata": {},
   "outputs": [],
   "source": [
    "def CaesarCipher(pt, shift):\n",
    "\t\n",
    "\tct = \"\"\n",
    "\tfor letra in pt:\n",
    "\t\tif letra == \" \":\n",
    "\t\t\tct += \" \"\n",
    "\t\t\tcontinue\n",
    "\t\tletra_ascii = ord(letra.lower()) - 97\n",
    "\t\tct+= chr(((letra_ascii + shift)%26)+97)\n",
    "\n",
    "\t\n",
    "\t\n",
    "\treturn ct"
   ]
  },
  {
   "cell_type": "code",
   "execution_count": 21,
   "metadata": {},
   "outputs": [],
   "source": [
    "def CaesarDecipher(ct, shift):\n",
    "\tpt = \"\"\n",
    "\t\n",
    "\tfor letra in ct:\n",
    "\t\tif letra == \" \":\n",
    "\t\t\tpt += \" \"\n",
    "\t\t\tcontinue\n",
    "\t\tletra_ascii = ord(letra.lower()) - 97\n",
    "\t\tpt+= chr(((letra_ascii - shift)%26)+97)\n",
    "\n",
    "\n",
    "\treturn pt"
   ]
  },
  {
   "cell_type": "code",
   "execution_count": 22,
   "metadata": {},
   "outputs": [
    {
     "name": "stdout",
     "output_type": "stream",
     "text": [
      "bj qtaj ltnsl yt tzw kfatwnyj wjxyfzwfsy yt jfy tzw kfatwnyj ktti\n",
      "we love going to our favorite restaurant to eat our favorite food\n"
     ]
    }
   ],
   "source": [
    "m = \"we love going to our favorite restaurant to eat our favorite food\"\n",
    "\n",
    "ct = CaesarCipher(m,5)\n",
    "\n",
    "print(ct)\n",
    "\n",
    "pt = CaesarDecipher(ct,5)\n",
    "\n",
    "print(pt)"
   ]
  },
  {
   "cell_type": "markdown",
   "metadata": {},
   "source": [
    "# Brute force solve Caesar\n",
    "Ejercicio : implementar CaesarBruteForce . Usar m como texto de prueba"
   ]
  },
  {
   "cell_type": "code",
   "execution_count": 30,
   "metadata": {},
   "outputs": [
    {
     "name": "stdout",
     "output_type": "stream",
     "text": [
      "Shift: 0\n",
      "bj qtaj ltnsl yt tzw kfatwnyj wjxyfzwfsy yt jfy tzw kfatwnyj ktti\n",
      "Shift: 1\n",
      "ai pszi ksmrk xs syv jezsvmxi viwxeyverx xs iex syv jezsvmxi jssh\n",
      "Found a valid word: ai\n",
      "Shift: 2\n",
      "zh oryh jrlqj wr rxu idyrulwh uhvwdxudqw wr hdw rxu idyrulwh irrg\n",
      "Shift: 3\n",
      "yg nqxg iqkpi vq qwt hcxqtkvg tguvcwtcpv vq gcv qwt hcxqtkvg hqqf\n",
      "Shift: 4\n",
      "xf mpwf hpjoh up pvs gbwpsjuf sftubvsbou up fbu pvs gbwpsjuf gppe\n",
      "Found a valid word: up\n",
      "Found a valid word: up\n",
      "Shift: 5\n",
      "we love going to our favorite restaurant to eat our favorite food\n",
      "Found a valid word: we\n",
      "Found a valid word: love\n",
      "Found a valid word: going\n",
      "Found a valid word: to\n",
      "we love going to our favorite restaurant to eat our favorite food\n"
     ]
    }
   ],
   "source": [
    "def CaesarBruteForce(ct):\n",
    "\tfor shift in range(27):\n",
    "\t\tpt = \"\"\n",
    "\t\tprint(f\"Shift: {shift}\")\n",
    "\t\tfor letra in ct:\n",
    "\t\t\tif letra == \" \":\n",
    "\t\t\t\tpt += \" \"\n",
    "\t\t\t\tcontinue\n",
    "\t\t\tletra_ascii = ord(letra.lower()) - 97\n",
    "\t\t\tpt+= chr(((letra_ascii - shift)%26)+97)\n",
    "\t\tprint(pt)\n",
    "\t\tpalabras = pt.split()\n",
    "\t\tcounter = 0\n",
    "\n",
    "\t\tfor palabra in palabras:\n",
    "\t\t\tif palabra in words.words():\n",
    "\t\t\t\tprint(f\"Found a valid word: {palabra}\")\n",
    "\t\t\t\tcounter += 1\n",
    "\t\t\tif counter > 3:\n",
    "\t\t\t\treturn pt\n",
    "\t\t\n",
    "\t\t\n",
    "\treturn  0\n",
    "\n",
    "print(CaesarBruteForce(ct))"
   ]
  },
  {
   "cell_type": "code",
   "execution_count": 32,
   "metadata": {},
   "outputs": [
    {
     "name": "stdout",
     "output_type": "stream",
     "text": [
      "aptly\n",
      "timer\n",
      "timer\n",
      "aptly\n",
      "bunny arena\n"
     ]
    }
   ],
   "source": [
    "print(CaesarDecipher(\"bqumz\",1))\n",
    "print(CaesarDecipher(\"bqumz\",8))\n",
    "print(CaesarDecipher(\"ujnfs\",1))\n",
    "print(CaesarDecipher(\"ujnfs\",20))\n",
    "print(CaesarCipher(\"sleep river\",9))"
   ]
  },
  {
   "cell_type": "markdown",
   "metadata": {},
   "source": [
    "# Colisiones con letras de 5 palabras\n",
    "Ejercicio : response las siguientes preguntas"
   ]
  },
  {
   "cell_type": "markdown",
   "metadata": {},
   "source": [
    "Considera CaesarDecipher(\"bqumz\",1) y CaesarDecipher(\"bqumz\",8), CaesarDecipher(\"ujnfs\",1), CaesarDecipher(\"ujnfs\",20) ¿Qué palabras generan?\n",
    "\n",
    "Respuesta:\n",
    "aptly\n",
    "timer\n",
    "timer\n",
    "aptly"
   ]
  },
  {
   "cell_type": "markdown",
   "metadata": {},
   "source": [
    "Considera CaesarCipher(\"sleep river\",9),  ¿Qué genera?\n",
    "\n",
    "Respuesta:\n",
    "bunny arena"
   ]
  },
  {
   "cell_type": "markdown",
   "metadata": {},
   "source": [
    "¿Cómo sabemos si un mensaje ha sido cifrado, y cómo podemos asegurarnos que un mensaje fue correctamente descifrado en general?\n",
    "\n",
    "Respuesta: Un mensaje fue cifrado si no es coherente y esta correctamente descifrado si tiene coherencia o palabras conocidas."
   ]
  },
  {
   "cell_type": "markdown",
   "metadata": {},
   "source": [
    "# Un mejor ataque\n",
    "\n",
    "Usamos las frecuencias de las letras. Definir las letras del alfabeto como 0,...25. Sea p<sub>i</sub> la frecuencia de la letra i en un texto normal. \n",
    "En inglés la suma de las frecuencias al cuadrado es alrededor de 0.06."
   ]
  },
  {
   "cell_type": "markdown",
   "metadata": {},
   "source": [
    "$\\sum \\limits _{i=0} ^{25} p_{i} ^ {2} \\approx 0.06$"
   ]
  },
  {
   "cell_type": "code",
   "execution_count": 43,
   "metadata": {},
   "outputs": [
    {
     "name": "stdout",
     "output_type": "stream",
     "text": [
      "0.06025099999999999\n"
     ]
    }
   ],
   "source": [
    "frequencies = {\"a\": 0.082, \"b\" : 0.015, \"c\" : 0.028, \"d\" : 0.043, \"e\" : 0.127, \"f\" : 0.022, \"g\" : 0.02, \"h\" : 0.061, \"i\" : 0.07, \"j\" : 0.002, \"k\" : 0.008, \"l\" : 0.04, \"m\" : 0.024, \"n\" : 0.067, \"o\" : 0.015, \"p\" : 0.019, \"q\" : 0.001, \"r\" : 0.06, \"s\" : 0.063, \"t\" : 0.091, \"u\" : 0.028, \"v\" : 0.01, \"w\" : 0.024, \"x\" : 0.002, \"y\" : 0.02, \"z\" : 0.001}\n",
    "\n",
    "print(sum([i**2 for i in frequencies.values()]))"
   ]
  },
  {
   "attachments": {},
   "cell_type": "markdown",
   "metadata": {},
   "source": [
    "Dado un texto cifrado, sea q_i la frecuencia probabilística de la letra i en el texto cifrado. Si la llave es k, entonces p<sub>i</sub> $\\approx$  q<sub>(i+k(mod 26))</sub> para todo i.\n",
    "\n",
    "Ejercicio : Escribe una fórmula matemática basada en lo discutido arriba para encontrar la llave k, y luego implementa la función CaeserFreqDecipher basada en ella."
   ]
  },
  {
   "cell_type": "code",
   "execution_count": 46,
   "metadata": {},
   "outputs": [
    {
     "name": "stdout",
     "output_type": "stream",
     "text": [
      "gvctxskvetlmgwcwxiqweviibxviqipchmjjmgypxxsfymphrizivxlipiwwjsvwsqiviewsrqercrsribtivxwmrwmwxsrhiwmkrmrkriairgvctxmsrwgliqiwxlexwiiqxsxliqxsfiqsviwigyvixlerercsxlivwgliqisrievxlxliyrjsvxyrexixvyxllsaizivmwxlexwyglwgliqiweviywyeppcxvmzmepxsfvieo\n"
     ]
    }
   ],
   "source": [
    "m = \"cryptographicsystemsareextremelydifficulttobuildneverthelessforsomereasonmanynonexpertsinsistondesigningnewencryptionschemesthatseemtothemtobemoresecurethananyotherschemeonearththeunfortunatetruthhoweveristhatsuchschemesareusuallytrivialtobreak\"\n",
    "\n",
    "ct = CaesarCipher(m, 4)\n",
    "print(ct)\n",
    "cipherFrequencies = {}"
   ]
  },
  {
   "cell_type": "code",
   "execution_count": 79,
   "metadata": {},
   "outputs": [
    {
     "name": "stdout",
     "output_type": "stream",
     "text": [
      "{'a': 0, 'b': 0, 'c': 0, 'd': 0, 'e': 0, 'f': 0, 'g': 0, 'h': 0, 'i': 0, 'j': 0, 'k': 0, 'l': 0, 'm': 0, 'n': 0, 'o': 0, 'p': 0, 'q': 0, 'r': 0, 's': 0, 't': 0, 'u': 0, 'v': 0, 'w': 0, 'x': 0, 'y': 0, 'z': 0}\n",
      "gvctxskvetlmgwcwxiqweviibxviqipchmjjmgypxxsfymphrizivxlipiwwjsvwsqiviewsrqercrsribtivxwmrwmwxsrhiwmkrmrkriairgvctxmsrwgliqiwxlexwiiqxsxliqxsfiqsviwigyvixlerercsxlivwgliqisrievxlxliyrjsvxyrexixvyxllsaizivmwxlexwyglwgliqiweviywyeppcxvmzmepxsfvieo\n",
      "{'a': 2, 'b': 2, 'c': 7, 'd': 0, 'e': 14, 'f': 3, 'g': 9, 'h': 3, 'i': 37, 'j': 4, 'k': 3, 'l': 15, 'm': 12, 'n': 0, 'o': 1, 'p': 7, 'q': 10, 'r': 17, 's': 16, 't': 4, 'u': 0, 'v': 19, 'w': 21, 'x': 26, 'y': 9, 'z': 3}\n",
      "CipherText\n",
      "i,0.152 ; x,0.107 ; w,0.086 ; v,0.078 ; r,0.07 ; s,0.066 ; l,0.061 ; e,0.057 ; m,0.049 ; q,0.041 ; g,0.037 ; y,0.037 ; c,0.029 ; p,0.029 ; j,0.016 ; t,0.016 ; f,0.012 ; h,0.012 ; k,0.012 ; z,0.012 ; a,0.008 ; b,0.008 ; o,0.004 ; d,0.0 ; n,0.0 ; u,0.0 ; \n",
      "0.9990000000000002\n",
      "RealFrecuencies\n",
      "e,0.127 ; t,0.091 ; a,0.082 ; i,0.07 ; n,0.067 ; s,0.063 ; h,0.061 ; r,0.06 ; d,0.043 ; l,0.04 ; c,0.028 ; u,0.028 ; m,0.024 ; w,0.024 ; f,0.022 ; g,0.02 ; y,0.02 ; p,0.019 ; b,0.015 ; o,0.015 ; v,0.01 ; k,0.008 ; j,0.002 ; x,0.002 ; q,0.001 ; z,0.001 ; \n",
      "0.9430000000000003\n"
     ]
    }
   ],
   "source": [
    "for x in range(26):\n",
    "    cipherFrequencies[chr(x+97)] = 0\n",
    "print(cipherFrequencies)\n",
    "\n",
    "\n",
    "for letra in ct:\n",
    "    if letra != \" \":\n",
    "        cipherFrequencies[letra] += 1\n",
    "\n",
    "\n",
    "\n",
    "print(ct)\n",
    "print(cipherFrequencies)\n",
    "for values in cipherFrequencies:\n",
    "    cipherFrequencies[values] = round((cipherFrequencies[values] / len(ct)),3)\n",
    "print(\"CipherText\")\n",
    "contador = 0.0\n",
    "\n",
    "for letra, freq in sorted(cipherFrequencies.items(), key=operator.itemgetter(1), reverse=True):\n",
    "    print(letra, freq,sep=\",\",end=\" ; \")\n",
    "    contador += freq\n",
    "print()\n",
    "print(contador)\n",
    "print(\"RealFrecuencies\")\n",
    "contador = 0\n",
    "for letra, freq in sorted(frequencies.items(), key=operator.itemgetter(1), reverse=True):\n",
    "    print(letra, freq,sep=\",\",end=\" ; \")\n",
    "    contador += freq\n",
    "print()\n",
    "print(contador)\n"
   ]
  },
  {
   "cell_type": "code",
   "execution_count": 80,
   "metadata": {},
   "outputs": [
    {
     "name": "stdout",
     "output_type": "stream",
     "text": [
      "0.06025099999999999\n",
      "0.073993\n"
     ]
    }
   ],
   "source": [
    "print(sum([i**2 for i in frequencies.values()]))\n",
    "print(sum([i**2 for i in cipherFrequencies.values()]))"
   ]
  },
  {
   "cell_type": "code",
   "execution_count": 93,
   "metadata": {},
   "outputs": [
    {
     "name": "stdout",
     "output_type": "stream",
     "text": [
      "Shift: 0\n",
      "0.008 ; 0.008 ; 0.029 ; 0.0 ; 0.057 ; 0.012 ; 0.037 ; 0.012 ; 0.152 ; 0.016 ; 0.012 ; 0.061 ; 0.049 ; 0.0 ; 0.004 ; 0.029 ; 0.041 ; 0.07 ; 0.066 ; 0.016 ; 0.0 ; 0.078 ; 0.086 ; 0.107 ; 0.037 ; 0.012 ; \n",
      "0.082 ; 0.015 ; 0.028 ; 0.043 ; 0.127 ; 0.022 ; 0.02 ; 0.061 ; 0.07 ; 0.002 ; 0.008 ; 0.04 ; 0.024 ; 0.067 ; 0.015 ; 0.019 ; 0.001 ; 0.06 ; 0.063 ; 0.091 ; 0.028 ; 0.01 ; 0.024 ; 0.002 ; 0.02 ; 0.001 ; \n",
      "contador 0.924\n",
      "min 99999999\n",
      "Shift: 1\n",
      "0.008 ; 0.029 ; 0.0 ; 0.057 ; 0.012 ; 0.037 ; 0.012 ; 0.152 ; 0.016 ; 0.012 ; 0.061 ; 0.049 ; 0.0 ; 0.004 ; 0.029 ; 0.041 ; 0.07 ; 0.066 ; 0.016 ; 0.0 ; 0.078 ; 0.086 ; 0.107 ; 0.037 ; 0.012 ; 0.008 ; \n",
      "0.082 ; 0.015 ; 0.028 ; 0.043 ; 0.127 ; 0.022 ; 0.02 ; 0.061 ; 0.07 ; 0.002 ; 0.008 ; 0.04 ; 0.024 ; 0.067 ; 0.015 ; 0.019 ; 0.001 ; 0.06 ; 0.063 ; 0.091 ; 0.028 ; 0.01 ; 0.024 ; 0.002 ; 0.02 ; 0.001 ; \n",
      "Shift: 2\n",
      "0.029 ; 0.0 ; 0.057 ; 0.012 ; 0.037 ; 0.012 ; 0.152 ; 0.016 ; 0.012 ; 0.061 ; 0.049 ; 0.0 ; 0.004 ; 0.029 ; 0.041 ; 0.07 ; 0.066 ; 0.016 ; 0.0 ; 0.078 ; 0.086 ; 0.107 ; 0.037 ; 0.012 ; 0.008 ; 0.008 ; \n",
      "0.082 ; 0.015 ; 0.028 ; 0.043 ; 0.127 ; 0.022 ; 0.02 ; 0.061 ; 0.07 ; 0.002 ; 0.008 ; 0.04 ; 0.024 ; 0.067 ; 0.015 ; 0.019 ; 0.001 ; 0.06 ; 0.063 ; 0.091 ; 0.028 ; 0.01 ; 0.024 ; 0.002 ; 0.02 ; 0.001 ; \n",
      "Shift: 3\n",
      "0.0 ; 0.057 ; 0.012 ; 0.037 ; 0.012 ; 0.152 ; 0.016 ; 0.012 ; 0.061 ; 0.049 ; 0.0 ; 0.004 ; 0.029 ; 0.041 ; 0.07 ; 0.066 ; 0.016 ; 0.0 ; 0.078 ; 0.086 ; 0.107 ; 0.037 ; 0.012 ; 0.008 ; 0.008 ; 0.029 ; \n",
      "0.082 ; 0.015 ; 0.028 ; 0.043 ; 0.127 ; 0.022 ; 0.02 ; 0.061 ; 0.07 ; 0.002 ; 0.008 ; 0.04 ; 0.024 ; 0.067 ; 0.015 ; 0.019 ; 0.001 ; 0.06 ; 0.063 ; 0.091 ; 0.028 ; 0.01 ; 0.024 ; 0.002 ; 0.02 ; 0.001 ; \n",
      "Shift: 4\n",
      "0.057 ; 0.012 ; 0.037 ; 0.012 ; 0.152 ; 0.016 ; 0.012 ; 0.061 ; 0.049 ; 0.0 ; 0.004 ; 0.029 ; 0.041 ; 0.07 ; 0.066 ; 0.016 ; 0.0 ; 0.078 ; 0.086 ; 0.107 ; 0.037 ; 0.012 ; 0.008 ; 0.008 ; 0.029 ; 0.0 ; \n",
      "0.082 ; 0.015 ; 0.028 ; 0.043 ; 0.127 ; 0.022 ; 0.02 ; 0.061 ; 0.07 ; 0.002 ; 0.008 ; 0.04 ; 0.024 ; 0.067 ; 0.015 ; 0.019 ; 0.001 ; 0.06 ; 0.063 ; 0.091 ; 0.028 ; 0.01 ; 0.024 ; 0.002 ; 0.02 ; 0.001 ; \n",
      "contador 0.32000000000000006\n",
      "min 0.924\n",
      "Shift: 5\n",
      "0.012 ; 0.037 ; 0.012 ; 0.152 ; 0.016 ; 0.012 ; 0.061 ; 0.049 ; 0.0 ; 0.004 ; 0.029 ; 0.041 ; 0.07 ; 0.066 ; 0.016 ; 0.0 ; 0.078 ; 0.086 ; 0.107 ; 0.037 ; 0.012 ; 0.008 ; 0.008 ; 0.029 ; 0.0 ; 0.057 ; \n",
      "0.082 ; 0.015 ; 0.028 ; 0.043 ; 0.127 ; 0.022 ; 0.02 ; 0.061 ; 0.07 ; 0.002 ; 0.008 ; 0.04 ; 0.024 ; 0.067 ; 0.015 ; 0.019 ; 0.001 ; 0.06 ; 0.063 ; 0.091 ; 0.028 ; 0.01 ; 0.024 ; 0.002 ; 0.02 ; 0.001 ; \n",
      "Shift: 6\n",
      "0.037 ; 0.012 ; 0.152 ; 0.016 ; 0.012 ; 0.061 ; 0.049 ; 0.0 ; 0.004 ; 0.029 ; 0.041 ; 0.07 ; 0.066 ; 0.016 ; 0.0 ; 0.078 ; 0.086 ; 0.107 ; 0.037 ; 0.012 ; 0.008 ; 0.008 ; 0.029 ; 0.0 ; 0.057 ; 0.012 ; \n",
      "0.082 ; 0.015 ; 0.028 ; 0.043 ; 0.127 ; 0.022 ; 0.02 ; 0.061 ; 0.07 ; 0.002 ; 0.008 ; 0.04 ; 0.024 ; 0.067 ; 0.015 ; 0.019 ; 0.001 ; 0.06 ; 0.063 ; 0.091 ; 0.028 ; 0.01 ; 0.024 ; 0.002 ; 0.02 ; 0.001 ; \n",
      "Shift: 7\n",
      "0.012 ; 0.152 ; 0.016 ; 0.012 ; 0.061 ; 0.049 ; 0.0 ; 0.004 ; 0.029 ; 0.041 ; 0.07 ; 0.066 ; 0.016 ; 0.0 ; 0.078 ; 0.086 ; 0.107 ; 0.037 ; 0.012 ; 0.008 ; 0.008 ; 0.029 ; 0.0 ; 0.057 ; 0.012 ; 0.037 ; \n",
      "0.082 ; 0.015 ; 0.028 ; 0.043 ; 0.127 ; 0.022 ; 0.02 ; 0.061 ; 0.07 ; 0.002 ; 0.008 ; 0.04 ; 0.024 ; 0.067 ; 0.015 ; 0.019 ; 0.001 ; 0.06 ; 0.063 ; 0.091 ; 0.028 ; 0.01 ; 0.024 ; 0.002 ; 0.02 ; 0.001 ; \n",
      "Shift: 8\n",
      "0.152 ; 0.016 ; 0.012 ; 0.061 ; 0.049 ; 0.0 ; 0.004 ; 0.029 ; 0.041 ; 0.07 ; 0.066 ; 0.016 ; 0.0 ; 0.078 ; 0.086 ; 0.107 ; 0.037 ; 0.012 ; 0.008 ; 0.008 ; 0.029 ; 0.0 ; 0.057 ; 0.012 ; 0.037 ; 0.012 ; \n",
      "0.082 ; 0.015 ; 0.028 ; 0.043 ; 0.127 ; 0.022 ; 0.02 ; 0.061 ; 0.07 ; 0.002 ; 0.008 ; 0.04 ; 0.024 ; 0.067 ; 0.015 ; 0.019 ; 0.001 ; 0.06 ; 0.063 ; 0.091 ; 0.028 ; 0.01 ; 0.024 ; 0.002 ; 0.02 ; 0.001 ; \n",
      "Shift: 9\n",
      "0.016 ; 0.012 ; 0.061 ; 0.049 ; 0.0 ; 0.004 ; 0.029 ; 0.041 ; 0.07 ; 0.066 ; 0.016 ; 0.0 ; 0.078 ; 0.086 ; 0.107 ; 0.037 ; 0.012 ; 0.008 ; 0.008 ; 0.029 ; 0.0 ; 0.057 ; 0.012 ; 0.037 ; 0.012 ; 0.152 ; \n",
      "0.082 ; 0.015 ; 0.028 ; 0.043 ; 0.127 ; 0.022 ; 0.02 ; 0.061 ; 0.07 ; 0.002 ; 0.008 ; 0.04 ; 0.024 ; 0.067 ; 0.015 ; 0.019 ; 0.001 ; 0.06 ; 0.063 ; 0.091 ; 0.028 ; 0.01 ; 0.024 ; 0.002 ; 0.02 ; 0.001 ; \n",
      "Shift: 10\n",
      "0.012 ; 0.061 ; 0.049 ; 0.0 ; 0.004 ; 0.029 ; 0.041 ; 0.07 ; 0.066 ; 0.016 ; 0.0 ; 0.078 ; 0.086 ; 0.107 ; 0.037 ; 0.012 ; 0.008 ; 0.008 ; 0.029 ; 0.0 ; 0.057 ; 0.012 ; 0.037 ; 0.012 ; 0.152 ; 0.016 ; \n",
      "0.082 ; 0.015 ; 0.028 ; 0.043 ; 0.127 ; 0.022 ; 0.02 ; 0.061 ; 0.07 ; 0.002 ; 0.008 ; 0.04 ; 0.024 ; 0.067 ; 0.015 ; 0.019 ; 0.001 ; 0.06 ; 0.063 ; 0.091 ; 0.028 ; 0.01 ; 0.024 ; 0.002 ; 0.02 ; 0.001 ; \n",
      "Shift: 11\n",
      "0.061 ; 0.049 ; 0.0 ; 0.004 ; 0.029 ; 0.041 ; 0.07 ; 0.066 ; 0.016 ; 0.0 ; 0.078 ; 0.086 ; 0.107 ; 0.037 ; 0.012 ; 0.008 ; 0.008 ; 0.029 ; 0.0 ; 0.057 ; 0.012 ; 0.037 ; 0.012 ; 0.152 ; 0.016 ; 0.012 ; \n",
      "0.082 ; 0.015 ; 0.028 ; 0.043 ; 0.127 ; 0.022 ; 0.02 ; 0.061 ; 0.07 ; 0.002 ; 0.008 ; 0.04 ; 0.024 ; 0.067 ; 0.015 ; 0.019 ; 0.001 ; 0.06 ; 0.063 ; 0.091 ; 0.028 ; 0.01 ; 0.024 ; 0.002 ; 0.02 ; 0.001 ; \n",
      "Shift: 12\n",
      "0.049 ; 0.0 ; 0.004 ; 0.029 ; 0.041 ; 0.07 ; 0.066 ; 0.016 ; 0.0 ; 0.078 ; 0.086 ; 0.107 ; 0.037 ; 0.012 ; 0.008 ; 0.008 ; 0.029 ; 0.0 ; 0.057 ; 0.012 ; 0.037 ; 0.012 ; 0.152 ; 0.016 ; 0.012 ; 0.061 ; \n",
      "0.082 ; 0.015 ; 0.028 ; 0.043 ; 0.127 ; 0.022 ; 0.02 ; 0.061 ; 0.07 ; 0.002 ; 0.008 ; 0.04 ; 0.024 ; 0.067 ; 0.015 ; 0.019 ; 0.001 ; 0.06 ; 0.063 ; 0.091 ; 0.028 ; 0.01 ; 0.024 ; 0.002 ; 0.02 ; 0.001 ; \n",
      "Shift: 13\n",
      "0.0 ; 0.004 ; 0.029 ; 0.041 ; 0.07 ; 0.066 ; 0.016 ; 0.0 ; 0.078 ; 0.086 ; 0.107 ; 0.037 ; 0.012 ; 0.008 ; 0.008 ; 0.029 ; 0.0 ; 0.057 ; 0.012 ; 0.037 ; 0.012 ; 0.152 ; 0.016 ; 0.012 ; 0.061 ; 0.049 ; \n",
      "0.082 ; 0.015 ; 0.028 ; 0.043 ; 0.127 ; 0.022 ; 0.02 ; 0.061 ; 0.07 ; 0.002 ; 0.008 ; 0.04 ; 0.024 ; 0.067 ; 0.015 ; 0.019 ; 0.001 ; 0.06 ; 0.063 ; 0.091 ; 0.028 ; 0.01 ; 0.024 ; 0.002 ; 0.02 ; 0.001 ; \n",
      "Shift: 14\n",
      "0.004 ; 0.029 ; 0.041 ; 0.07 ; 0.066 ; 0.016 ; 0.0 ; 0.078 ; 0.086 ; 0.107 ; 0.037 ; 0.012 ; 0.008 ; 0.008 ; 0.029 ; 0.0 ; 0.057 ; 0.012 ; 0.037 ; 0.012 ; 0.152 ; 0.016 ; 0.012 ; 0.061 ; 0.049 ; 0.0 ; \n",
      "0.082 ; 0.015 ; 0.028 ; 0.043 ; 0.127 ; 0.022 ; 0.02 ; 0.061 ; 0.07 ; 0.002 ; 0.008 ; 0.04 ; 0.024 ; 0.067 ; 0.015 ; 0.019 ; 0.001 ; 0.06 ; 0.063 ; 0.091 ; 0.028 ; 0.01 ; 0.024 ; 0.002 ; 0.02 ; 0.001 ; \n",
      "Shift: 15\n",
      "0.029 ; 0.041 ; 0.07 ; 0.066 ; 0.016 ; 0.0 ; 0.078 ; 0.086 ; 0.107 ; 0.037 ; 0.012 ; 0.008 ; 0.008 ; 0.029 ; 0.0 ; 0.057 ; 0.012 ; 0.037 ; 0.012 ; 0.152 ; 0.016 ; 0.012 ; 0.061 ; 0.049 ; 0.0 ; 0.004 ; \n",
      "0.082 ; 0.015 ; 0.028 ; 0.043 ; 0.127 ; 0.022 ; 0.02 ; 0.061 ; 0.07 ; 0.002 ; 0.008 ; 0.04 ; 0.024 ; 0.067 ; 0.015 ; 0.019 ; 0.001 ; 0.06 ; 0.063 ; 0.091 ; 0.028 ; 0.01 ; 0.024 ; 0.002 ; 0.02 ; 0.001 ; \n",
      "Shift: 16\n",
      "0.041 ; 0.07 ; 0.066 ; 0.016 ; 0.0 ; 0.078 ; 0.086 ; 0.107 ; 0.037 ; 0.012 ; 0.008 ; 0.008 ; 0.029 ; 0.0 ; 0.057 ; 0.012 ; 0.037 ; 0.012 ; 0.152 ; 0.016 ; 0.012 ; 0.061 ; 0.049 ; 0.0 ; 0.004 ; 0.029 ; \n",
      "0.082 ; 0.015 ; 0.028 ; 0.043 ; 0.127 ; 0.022 ; 0.02 ; 0.061 ; 0.07 ; 0.002 ; 0.008 ; 0.04 ; 0.024 ; 0.067 ; 0.015 ; 0.019 ; 0.001 ; 0.06 ; 0.063 ; 0.091 ; 0.028 ; 0.01 ; 0.024 ; 0.002 ; 0.02 ; 0.001 ; \n",
      "Shift: 17\n",
      "0.07 ; 0.066 ; 0.016 ; 0.0 ; 0.078 ; 0.086 ; 0.107 ; 0.037 ; 0.012 ; 0.008 ; 0.008 ; 0.029 ; 0.0 ; 0.057 ; 0.012 ; 0.037 ; 0.012 ; 0.152 ; 0.016 ; 0.012 ; 0.061 ; 0.049 ; 0.0 ; 0.004 ; 0.029 ; 0.041 ; \n",
      "0.082 ; 0.015 ; 0.028 ; 0.043 ; 0.127 ; 0.022 ; 0.02 ; 0.061 ; 0.07 ; 0.002 ; 0.008 ; 0.04 ; 0.024 ; 0.067 ; 0.015 ; 0.019 ; 0.001 ; 0.06 ; 0.063 ; 0.091 ; 0.028 ; 0.01 ; 0.024 ; 0.002 ; 0.02 ; 0.001 ; \n",
      "Shift: 18\n",
      "0.066 ; 0.016 ; 0.0 ; 0.078 ; 0.086 ; 0.107 ; 0.037 ; 0.012 ; 0.008 ; 0.008 ; 0.029 ; 0.0 ; 0.057 ; 0.012 ; 0.037 ; 0.012 ; 0.152 ; 0.016 ; 0.012 ; 0.061 ; 0.049 ; 0.0 ; 0.004 ; 0.029 ; 0.041 ; 0.07 ; \n",
      "0.082 ; 0.015 ; 0.028 ; 0.043 ; 0.127 ; 0.022 ; 0.02 ; 0.061 ; 0.07 ; 0.002 ; 0.008 ; 0.04 ; 0.024 ; 0.067 ; 0.015 ; 0.019 ; 0.001 ; 0.06 ; 0.063 ; 0.091 ; 0.028 ; 0.01 ; 0.024 ; 0.002 ; 0.02 ; 0.001 ; \n",
      "Shift: 19\n",
      "0.016 ; 0.0 ; 0.078 ; 0.086 ; 0.107 ; 0.037 ; 0.012 ; 0.008 ; 0.008 ; 0.029 ; 0.0 ; 0.057 ; 0.012 ; 0.037 ; 0.012 ; 0.152 ; 0.016 ; 0.012 ; 0.061 ; 0.049 ; 0.0 ; 0.004 ; 0.029 ; 0.041 ; 0.07 ; 0.066 ; \n",
      "0.082 ; 0.015 ; 0.028 ; 0.043 ; 0.127 ; 0.022 ; 0.02 ; 0.061 ; 0.07 ; 0.002 ; 0.008 ; 0.04 ; 0.024 ; 0.067 ; 0.015 ; 0.019 ; 0.001 ; 0.06 ; 0.063 ; 0.091 ; 0.028 ; 0.01 ; 0.024 ; 0.002 ; 0.02 ; 0.001 ; \n",
      "Shift: 20\n",
      "0.0 ; 0.078 ; 0.086 ; 0.107 ; 0.037 ; 0.012 ; 0.008 ; 0.008 ; 0.029 ; 0.0 ; 0.057 ; 0.012 ; 0.037 ; 0.012 ; 0.152 ; 0.016 ; 0.012 ; 0.061 ; 0.049 ; 0.0 ; 0.004 ; 0.029 ; 0.041 ; 0.07 ; 0.066 ; 0.016 ; \n",
      "0.082 ; 0.015 ; 0.028 ; 0.043 ; 0.127 ; 0.022 ; 0.02 ; 0.061 ; 0.07 ; 0.002 ; 0.008 ; 0.04 ; 0.024 ; 0.067 ; 0.015 ; 0.019 ; 0.001 ; 0.06 ; 0.063 ; 0.091 ; 0.028 ; 0.01 ; 0.024 ; 0.002 ; 0.02 ; 0.001 ; \n",
      "Shift: 21\n",
      "0.078 ; 0.086 ; 0.107 ; 0.037 ; 0.012 ; 0.008 ; 0.008 ; 0.029 ; 0.0 ; 0.057 ; 0.012 ; 0.037 ; 0.012 ; 0.152 ; 0.016 ; 0.012 ; 0.061 ; 0.049 ; 0.0 ; 0.004 ; 0.029 ; 0.041 ; 0.07 ; 0.066 ; 0.016 ; 0.0 ; \n",
      "0.082 ; 0.015 ; 0.028 ; 0.043 ; 0.127 ; 0.022 ; 0.02 ; 0.061 ; 0.07 ; 0.002 ; 0.008 ; 0.04 ; 0.024 ; 0.067 ; 0.015 ; 0.019 ; 0.001 ; 0.06 ; 0.063 ; 0.091 ; 0.028 ; 0.01 ; 0.024 ; 0.002 ; 0.02 ; 0.001 ; \n",
      "Shift: 22\n",
      "0.086 ; 0.107 ; 0.037 ; 0.012 ; 0.008 ; 0.008 ; 0.029 ; 0.0 ; 0.057 ; 0.012 ; 0.037 ; 0.012 ; 0.152 ; 0.016 ; 0.012 ; 0.061 ; 0.049 ; 0.0 ; 0.004 ; 0.029 ; 0.041 ; 0.07 ; 0.066 ; 0.016 ; 0.0 ; 0.078 ; \n",
      "0.082 ; 0.015 ; 0.028 ; 0.043 ; 0.127 ; 0.022 ; 0.02 ; 0.061 ; 0.07 ; 0.002 ; 0.008 ; 0.04 ; 0.024 ; 0.067 ; 0.015 ; 0.019 ; 0.001 ; 0.06 ; 0.063 ; 0.091 ; 0.028 ; 0.01 ; 0.024 ; 0.002 ; 0.02 ; 0.001 ; \n",
      "Shift: 23\n",
      "0.107 ; 0.037 ; 0.012 ; 0.008 ; 0.008 ; 0.029 ; 0.0 ; 0.057 ; 0.012 ; 0.037 ; 0.012 ; 0.152 ; 0.016 ; 0.012 ; 0.061 ; 0.049 ; 0.0 ; 0.004 ; 0.029 ; 0.041 ; 0.07 ; 0.066 ; 0.016 ; 0.0 ; 0.078 ; 0.086 ; \n",
      "0.082 ; 0.015 ; 0.028 ; 0.043 ; 0.127 ; 0.022 ; 0.02 ; 0.061 ; 0.07 ; 0.002 ; 0.008 ; 0.04 ; 0.024 ; 0.067 ; 0.015 ; 0.019 ; 0.001 ; 0.06 ; 0.063 ; 0.091 ; 0.028 ; 0.01 ; 0.024 ; 0.002 ; 0.02 ; 0.001 ; \n",
      "Shift: 24\n",
      "0.037 ; 0.012 ; 0.008 ; 0.008 ; 0.029 ; 0.0 ; 0.057 ; 0.012 ; 0.037 ; 0.012 ; 0.152 ; 0.016 ; 0.012 ; 0.061 ; 0.049 ; 0.0 ; 0.004 ; 0.029 ; 0.041 ; 0.07 ; 0.066 ; 0.016 ; 0.0 ; 0.078 ; 0.086 ; 0.107 ; \n",
      "0.082 ; 0.015 ; 0.028 ; 0.043 ; 0.127 ; 0.022 ; 0.02 ; 0.061 ; 0.07 ; 0.002 ; 0.008 ; 0.04 ; 0.024 ; 0.067 ; 0.015 ; 0.019 ; 0.001 ; 0.06 ; 0.063 ; 0.091 ; 0.028 ; 0.01 ; 0.024 ; 0.002 ; 0.02 ; 0.001 ; \n",
      "Shift: 25\n",
      "0.012 ; 0.008 ; 0.008 ; 0.029 ; 0.0 ; 0.057 ; 0.012 ; 0.037 ; 0.012 ; 0.152 ; 0.016 ; 0.012 ; 0.061 ; 0.049 ; 0.0 ; 0.004 ; 0.029 ; 0.041 ; 0.07 ; 0.066 ; 0.016 ; 0.0 ; 0.078 ; 0.086 ; 0.107 ; 0.037 ; \n",
      "0.082 ; 0.015 ; 0.028 ; 0.043 ; 0.127 ; 0.022 ; 0.02 ; 0.061 ; 0.07 ; 0.002 ; 0.008 ; 0.04 ; 0.024 ; 0.067 ; 0.015 ; 0.019 ; 0.001 ; 0.06 ; 0.063 ; 0.091 ; 0.028 ; 0.01 ; 0.024 ; 0.002 ; 0.02 ; 0.001 ; \n",
      "Key found: 4\n",
      "0\n"
     ]
    }
   ],
   "source": [
    "def CaeserFreqDecipher(p,q):\n",
    "\tkey = 0\n",
    "\tmin = 99999999\n",
    "\tfor k in range(26):\n",
    "\t\tprint(f\"Shift: {k}\")\n",
    "\t\tcontador = 0\n",
    "\t\t\n",
    "\t\tfor values in cipherFrequencies:\n",
    "\t\t\tprint(cipherFrequencies[chr((((ord(values)-97)+k)%26)+97)],sep=\",\",end=\" ; \")\n",
    "\n",
    "\t\t\tcontador += abs(cipherFrequencies[chr((((ord(values)-97)+k)%26)+97)] - frequencies[values])\n",
    "\t\tprint()\n",
    "\t\tfor values in cipherFrequencies:\n",
    "\t\t\t\t\tprint(frequencies[values],sep=\",\",end=\" ; \")\n",
    "\t\tprint()\n",
    "\t\tif min > contador:\n",
    "\t\t\tprint(\"contador\",contador)\n",
    "\t\t\tprint(\"min\",min)\n",
    "\t\t\tmin = contador\n",
    "\t\t\tkey = k\n",
    "\tprint(f\"Key found: {key}\")\n",
    "\n",
    "\n",
    "\t\t\n",
    "\treturn 0\n",
    "print(CaeserFreqDecipher(\"bqumz\",1))"
   ]
  },
  {
   "attachments": {},
   "cell_type": "markdown",
   "metadata": {},
   "source": [
    "Ejercicio : Ahora vamos a utilizar nuestra función en el siguiente texto. Primero rellena cipherFrequencies con las frecuencias observadas en el texto cifrado. \\\n",
    "Hint : ¿Qué resultado debería darnos la fórmula?"
   ]
  },
  {
   "cell_type": "markdown",
   "metadata": {},
   "source": [
    "El valor que más se acerque a 0.06 es el correcto, en este caso el índice 4, que genera un shift de 4, el mismo que usamos para cifrar el texto"
   ]
  },
  {
   "cell_type": "markdown",
   "metadata": {},
   "source": [
    "# Bonus: Cifrado de permutación\n",
    "Ejercicio: Decifrar el siguiente texto, creado con un cifrado de permutación. Puedes usar https://es.wikipedia.org/wiki/Frecuencia_de_aparici%C3%B3n_de_letras para la frecuencia de letras."
   ]
  },
  {
   "cell_type": "code",
   "execution_count": null,
   "metadata": {},
   "outputs": [],
   "source": [
    "ct = \"OFW WVWGDCXW UHVSGFBHXNVUFW WFQ DJGHDCXAXCDQGD AVNVUVODW AD UFQWGHLVH SDHF XLQ XWV CLUKFW VQDJSDHGFW VQWVWGDQ DQ AVWDTXH QLDZFW DWYLDCXW AD UVNHXAF YLD ODW SXHDUDQ CXW WDBLHFW YLD ULXOYLVDH FGHF DWYLDCX DQ OX GVDHHX ADWBHXUVXAXCDQGD DWGFW DWYLDCXW WFQ NXUVODW AD HFCSDH\""
   ]
  },
  {
   "cell_type": "markdown",
   "metadata": {},
   "source": [
    "Ejercicio: Describe un algoritmo para automatizar descifrado de permutación"
   ]
  },
  {
   "cell_type": "code",
   "execution_count": null,
   "metadata": {},
   "outputs": [],
   "source": []
  },
  {
   "cell_type": "markdown",
   "metadata": {},
   "source": [
    "Ejercicio : Escribe una implementación de tu algoritmo . ¿Qué tan rápido es? ¿Cómo podrías hacerlo más rapido?"
   ]
  }
 ],
 "metadata": {
  "kernelspec": {
   "display_name": "cripto",
   "language": "python",
   "name": "python3"
  },
  "language_info": {
   "codemirror_mode": {
    "name": "ipython",
    "version": 3
   },
   "file_extension": ".py",
   "mimetype": "text/x-python",
   "name": "python",
   "nbconvert_exporter": "python",
   "pygments_lexer": "ipython3",
   "version": "3.11.13"
  },
  "orig_nbformat": 4
 },
 "nbformat": 4,
 "nbformat_minor": 2
}
