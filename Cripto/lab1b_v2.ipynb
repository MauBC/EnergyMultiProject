{
 "cells": [
  {
   "cell_type": "code",
   "execution_count": 2,
   "metadata": {},
   "outputs": [
    {
     "name": "stderr",
     "output_type": "stream",
     "text": [
      "[nltk_data] Downloading package words to\n",
      "[nltk_data]     C:\\Users\\jose_\\AppData\\Roaming\\nltk_data...\n",
      "[nltk_data]   Package words is already up-to-date!\n"
     ]
    }
   ],
   "source": [
    "from posixpath import split\n",
    "import nltk\n",
    "nltk.download('words')\n",
    "from nltk.corpus import words\n",
    "# Para acceder a las palabras se utiliza words.words()"
   ]
  },
  {
   "cell_type": "markdown",
   "metadata": {},
   "source": [
    "# Caesar cipher and decipher\n",
    "Ejercicio : implementar CaesarCipher y CaesarDecipher. Usar m como texto de prueba"
   ]
  },
  {
   "cell_type": "code",
   "execution_count": 9,
   "metadata": {},
   "outputs": [],
   "source": [
    "def CaesarCipher(pt, shift):\n",
    "\tct = \"\"\n",
    "\t\n",
    "\treturn ct"
   ]
  },
  {
   "cell_type": "code",
   "execution_count": 4,
   "metadata": {},
   "outputs": [],
   "source": [
    "def CaesarDecipher(ct, shift):\n",
    "\tpt = \"\"\n",
    "\t\n",
    "\treturn pt"
   ]
  },
  {
   "cell_type": "code",
   "execution_count": 10,
   "metadata": {},
   "outputs": [
    {
     "name": "stdout",
     "output_type": "stream",
     "text": [
      "\n",
      "\n"
     ]
    }
   ],
   "source": [
    "m = \"we love going to our favorite restaurant to eat our favorite food\"\n",
    "\n",
    "ct = CaesarCipher(m,5)\n",
    "\n",
    "print(ct)\n",
    "\n",
    "pt = CaesarDecipher(ct,5)\n",
    "\n",
    "print(pt)"
   ]
  },
  {
   "cell_type": "markdown",
   "metadata": {},
   "source": [
    "# Brute force solve Caesar\n",
    "Ejercicio : implementar CaesarBruteForce . Usar m como texto de prueba"
   ]
  },
  {
   "cell_type": "code",
   "execution_count": null,
   "metadata": {},
   "outputs": [],
   "source": [
    "def CaesarBruteForce(ct):\n",
    "\t\n",
    "\treturn  0\n",
    "\n",
    "print(CaesarBruteForce(ct))"
   ]
  },
  {
   "cell_type": "markdown",
   "metadata": {},
   "source": [
    "# Colisiones con letras de 5 palabras\n",
    "Ejercicio : response las siguientes preguntas"
   ]
  },
  {
   "cell_type": "markdown",
   "metadata": {},
   "source": [
    "Considera CaesarDecipher(\"bqumz\",1) y CaesarDecipher(\"bqumz\",8), CaesarDecipher(\"ujnfs\",1), CaesarDecipher(\"ujnfs\",20) ¿Qué palabras generan?\n",
    "\n",
    "Respuesta:\n"
   ]
  },
  {
   "cell_type": "markdown",
   "metadata": {},
   "source": [
    "Considera CaesarCipher(\"sleep river\",9),  ¿Qué genera?\n",
    "\n",
    "Respuesta:"
   ]
  },
  {
   "cell_type": "markdown",
   "metadata": {},
   "source": [
    "¿Cómo sabemos si un mensaje ha sido cifrado, y cómo podemos asegurarnos que un mensaje fue correctamente descifrado en general?\n",
    "\n",
    "Respuesta:"
   ]
  },
  {
   "cell_type": "markdown",
   "metadata": {},
   "source": [
    "# Un mejor ataque\n",
    "\n",
    "Usamos las frecuencias de las letras. Definir las letras del alfabeto como 0,...25. Sea p<sub>i</sub> la frecuencia de la letra i en un texto normal. \n",
    "En inglés la suma de las frecuencias al cuadrado es alrededor de 0.06."
   ]
  },
  {
   "cell_type": "markdown",
   "metadata": {},
   "source": [
    "$\\sum \\limits _{i=0} ^{25} p_{i} ^ {2} \\approx 0.06$"
   ]
  },
  {
   "cell_type": "code",
   "execution_count": null,
   "metadata": {},
   "outputs": [],
   "source": [
    "frequencies = {\"a\": 0.082, \"b\" : 0.015, \"c\" : 0.028, \"d\" : 0.043, \"e\" : 0.127, \"f\" : 0.022, \"g\" : 0.02, \"h\" : 0.061, \"i\" : 0.07, \"j\" : 0.002, \"k\" : 0.008, \"l\" : 0.04, \"m\" : 0.024, \"n\" : 0.067, \"o\" : 0.015, \"p\" : 0.019, \"q\" : 0.001, \"r\" : 0.06, \"s\" : 0.063, \"t\" : 0.091, \"u\" : 0.028, \"v\" : 0.01, \"w\" : 0.024, \"x\" : 0.002, \"y\" : 0.02, \"z\" : 0.001}\n",
    "\n",
    "print(sum([i**2 for i in frequencies.values()]))"
   ]
  },
  {
   "attachments": {},
   "cell_type": "markdown",
   "metadata": {},
   "source": [
    "Dado un texto cifrado, sea q_i la frecuencia probabilística de la letra i en el texto cifrado. Si la llave es k, entonces p<sub>i</sub> $\\approx$  q<sub>(i+k(mod 26))</sub> para todo i.\n",
    "\n",
    "Ejercicio : Escribe una fórmula matemática basada en lo discutido arriba para encontrar la llave k, y luego implementa la función CaeserFreqDecipher basada en ella."
   ]
  },
  {
   "cell_type": "code",
   "execution_count": null,
   "metadata": {},
   "outputs": [],
   "source": [
    "def CaeserFreqDecipher(p,q):\n",
    "\treturn 0"
   ]
  },
  {
   "attachments": {},
   "cell_type": "markdown",
   "metadata": {},
   "source": [
    "Ejercicio : Ahora vamos a utilizar nuestra función en el siguiente texto. Primero rellena cipherFrequencies con las frecuencias observadas en el texto cifrado. \\\n",
    "Hint : ¿Qué resultado debería darnos la fórmula?"
   ]
  },
  {
   "cell_type": "code",
   "execution_count": null,
   "metadata": {},
   "outputs": [],
   "source": [
    "m = \"cryptographicsystemsareextremelydifficulttobuildneverthelessforsomereasonmanynonexpertsinsistondesigningnewencryptionschemesthatseemtothemtobemoresecurethananyotherschemeonearththeunfortunatetruthhoweveristhatsuchschemesareusuallytrivialtobreak\"\n",
    "\n",
    "ct = CaesarCipher(m, 4)\n",
    "\n",
    "cipherFrequencies = {}"
   ]
  },
  {
   "cell_type": "markdown",
   "metadata": {},
   "source": [
    "El valor que más se acerque a 0.06 es el correcto, en este caso el índice 4, que genera un shift de 4, el mismo que usamos para cifrar el texto"
   ]
  },
  {
   "cell_type": "markdown",
   "metadata": {},
   "source": [
    "# Bonus: Cifrado de permutación\n",
    "Ejercicio: Decifrar el siguiente texto, creado con un cifrado de permutación. Puedes usar https://es.wikipedia.org/wiki/Frecuencia_de_aparici%C3%B3n_de_letras para la frecuencia de letras."
   ]
  },
  {
   "cell_type": "code",
   "execution_count": null,
   "metadata": {},
   "outputs": [],
   "source": [
    "ct = \"OFW WVWGDCXW UHVSGFBHXNVUFW WFQ DJGHDCXAXCDQGD AVNVUVODW AD UFQWGHLVH SDHF XLQ XWV CLUKFW VQDJSDHGFW VQWVWGDQ DQ AVWDTXH QLDZFW DWYLDCXW AD UVNHXAF YLD ODW SXHDUDQ CXW WDBLHFW YLD ULXOYLVDH FGHF DWYLDCX DQ OX GVDHHX ADWBHXUVXAXCDQGD DWGFW DWYLDCXW WFQ NXUVODW AD HFCSDH\""
   ]
  },
  {
   "cell_type": "markdown",
   "metadata": {},
   "source": [
    "Ejercicio: Describe un algoritmo para automatizar descifrado de permutación"
   ]
  },
  {
   "cell_type": "code",
   "execution_count": null,
   "metadata": {},
   "outputs": [],
   "source": []
  },
  {
   "cell_type": "markdown",
   "metadata": {},
   "source": [
    "Ejercicio : Escribe una implementación de tu algoritmo . ¿Qué tan rápido es? ¿Cómo podrías hacerlo más rapido?"
   ]
  }
 ],
 "metadata": {
  "kernelspec": {
   "display_name": "Python 3",
   "language": "python",
   "name": "python3"
  },
  "language_info": {
   "codemirror_mode": {
    "name": "ipython",
    "version": 3
   },
   "file_extension": ".py",
   "mimetype": "text/x-python",
   "name": "python",
   "nbconvert_exporter": "python",
   "pygments_lexer": "ipython3",
   "version": "3.12.3"
  },
  "orig_nbformat": 4
 },
 "nbformat": 4,
 "nbformat_minor": 2
}
